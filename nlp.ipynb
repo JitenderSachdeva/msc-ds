{
 "cells": [
  {
   "cell_type": "code",
   "execution_count": null,
   "id": "23a5fd15",
   "metadata": {},
   "outputs": [],
   "source": [
    "# Import necessary libraries\n",
    "import nltk\n",
    "from nltk.tokenize import word_tokenize\n",
    "from nltk.corpus import stopwords\n",
    "from nltk.sentiment import SentimentIntensityAnalyzer\n",
    "\n",
    "# Download required NLTK data\n",
    "nltk.download('punkt')\n",
    "nltk.download('stopwords')\n",
    "nltk.download('vader_lexicon')\n",
    "\n",
    "\n",
    "\n",
    "# Sample text\n",
    "text = \"\"\"\n",
    "Natural Language Processing is fascinating! It's amazing to teach machines to understand human language.\n",
    "However, it can also be quite challenging.\n",
    "\"\"\"\n",
    "\n",
    "# Step 1: Tokenization\n",
    "tokens = word_tokenize(text)\n",
    "print(\"Tokens:\", tokens)\n",
    "# Step 2: Remove Stopwords\n",
    "stop_words = set(stopwords.words('english'))\n",
    "filtered_tokens = [word for word in tokens if word.lower() not in stop_words and word.isalnum()]\n",
    "print(\"Filtered Tokens:\", filtered_tokens)\n",
    "\n",
    "# Step 3: Sentiment Analysis\n",
    "sia = SentimentIntensityAnalyzer()\n",
    "sentiment = sia.polarity_scores(text)\n",
    "print(\"Sentiment Analysis:\", sentiment)"
   ]
  }
 ],
 "metadata": {
  "kernelspec": {
   "display_name": "Python 3 (ipykernel)",
   "language": "python",
   "name": "python3"
  },
  "language_info": {
   "codemirror_mode": {
    "name": "ipython",
    "version": 3
   },
   "file_extension": ".py",
   "mimetype": "text/x-python",
   "name": "python",
   "nbconvert_exporter": "python",
   "pygments_lexer": "ipython3",
   "version": "3.9.13"
  }
 },
 "nbformat": 4,
 "nbformat_minor": 5
}
