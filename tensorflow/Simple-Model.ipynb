{
 "cells": [
  {
   "cell_type": "code",
   "execution_count": null,
   "id": "5b9ae483",
   "metadata": {},
   "outputs": [],
   "source": [
    "# Sample data (x, y)\n",
    "x_train = tf.constant([1, 2, 3, 4], dtype=tf.float32)\n",
    "y_train = tf.constant([2, 4, 6, 8], dtype=tf.float32)\n",
    "\n",
    "# Define variables (weights and biases)\n",
    "w = tf.Variable(0.5)\n",
    "b = tf.Variable(0.0)\n",
    "\n",
    "# Define the model\n",
    "def linear_model(x):\n",
    "    return w * x + b\n",
    "\n",
    "# Define the loss function (Mean Squared Error)\n",
    "def loss_fn(y_true, y_pred):\n",
    "    return tf.reduce_mean(tf.square(y_true - y_pred))\n",
    "\n",
    "# Define the optimizer\n",
    "optimizer = tf.keras.optimizers.SGD(learning_rate=0.01)\n",
    "\n",
    "# Train the model\n",
    "for epoch in range(100):\n",
    "    with tf.GradientTape() as tape:\n",
    "        y_pred = linear_model(x_train)\n",
    "        loss = loss_fn(y_train, y_pred)\n",
    "\n",
    "    gradients = tape.gradient(loss, [w, b])\n",
    "    optimizer.apply_gradients(zip(gradients, [w, b]))\n",
    "\n",
    "    if epoch % 10 == 0:\n",
    "        print(f\"Epoch {epoch}: Loss = {loss.numpy()}\")\n",
    "\n",
    "# Final weights and bias\n",
    "print(\"Trained Weight:\", w.numpy())\n",
    "print(\"Trained Bias:\", b.numpy())\n"
   ]
  }
 ],
 "metadata": {
  "kernelspec": {
   "display_name": "Python 3 (ipykernel)",
   "language": "python",
   "name": "python3"
  },
  "language_info": {
   "codemirror_mode": {
    "name": "ipython",
    "version": 3
   },
   "file_extension": ".py",
   "mimetype": "text/x-python",
   "name": "python",
   "nbconvert_exporter": "python",
   "pygments_lexer": "ipython3",
   "version": "3.9.13"
  }
 },
 "nbformat": 4,
 "nbformat_minor": 5
}
