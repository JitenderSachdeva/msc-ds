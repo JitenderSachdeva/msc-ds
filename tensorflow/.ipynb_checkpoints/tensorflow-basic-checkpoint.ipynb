{
 "cells": [
  {
   "cell_type": "code",
   "execution_count": null,
   "id": "494eea70",
   "metadata": {},
   "outputs": [],
   "source": []
  },
  {
   "cell_type": "code",
   "execution_count": null,
   "id": "27aa86db",
   "metadata": {},
   "outputs": [],
   "source": [
    "import tensorflow as tf\n",
    "\n",
    "# Create tensors\n",
    "a = tf.constant([[1, 2], [3, 4]])\n",
    "b = tf.zeros((2, 2))\n",
    "c = tf.ones((2, 3))\n",
    "d = tf.random.normal((2, 2), mean=0.0, stddev=1.0)\n",
    "print(a, b, c, d)\n",
    "\n",
    "##Mathematical Operations:\n",
    "result = tf.add(a, b)\n",
    "product = tf.matmul(a, tf.transpose(c))\n",
    "elementwise_mul = tf.multiply(a, a)\n",
    "\n",
    "##Basic\n",
    "import tensorflow as tf\n",
    "\n",
    "# Create tensors\n",
    "a = tf.constant([[1, 2], [3, 4]])  # Constant tensor\n",
    "b = tf.ones((2, 2))                # Tensor filled with ones\n",
    "c = tf.zeros((2, 2))               # Tensor filled with zeros\n",
    "\n",
    "# Print tensors\n",
    "print(\"Tensor A:\\n\", a)\n",
    "print(\"Tensor B:\\n\", b)\n",
    "print(\"Tensor C:\\n\", c)\n",
    "\n",
    "# Perform operations\n",
    "result = tf.add(a, b)             # Element-wise addition\n",
    "product = tf.matmul(a, b)         # Matrix multiplication\n",
    "print(\"Result of addition:\\n\", result)\n",
    "print(\"Result of multiplication:\\n\", product)\n",
    "\n",
    "# Create a variable\n",
    "x = tf.Variable(3.0)\n",
    "\n",
    "# Perform operations\n",
    "x.assign(4.0)                     # Assign a new value\n",
    "x.assign_add(1.0)                 # Increment value by 1\n",
    "print(\"Variable X:\", x.numpy())   # Convert tensor to NumPy\n",
    "\n",
    "\n"
   ]
  },
  {
   "cell_type": "code",
   "execution_count": null,
   "id": "f0f0015f",
   "metadata": {},
   "outputs": [],
   "source": []
  }
 ],
 "metadata": {
  "kernelspec": {
   "display_name": "Python 3 (ipykernel)",
   "language": "python",
   "name": "python3"
  },
  "language_info": {
   "codemirror_mode": {
    "name": "ipython",
    "version": 3
   },
   "file_extension": ".py",
   "mimetype": "text/x-python",
   "name": "python",
   "nbconvert_exporter": "python",
   "pygments_lexer": "ipython3",
   "version": "3.9.13"
  }
 },
 "nbformat": 4,
 "nbformat_minor": 5
}
